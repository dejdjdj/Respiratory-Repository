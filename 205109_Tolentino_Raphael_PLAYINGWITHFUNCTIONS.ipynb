#Problem1
number = int(input("Choose a number to get the factorial of: "))

def problem_1(x):
    y = 1
    for i in range(1, x+1):
        y = y*i
    return y
   
result = problem_1(number)
print(result)


#Problem2
phrase = "Hydro"
    
def problem_2():
    counter = 0
    
    while counter < 3:
        guess = input("Guess a word: ")
        if guess == phrase:
            return 1
        else:
            counter += 1
            if counter == 3:
                return 0
            else:
                print("Try Again")
            
    
print(problem_2())

#Problem3
temp = float(input("Temperature: "))
original_format = input("What is the unit of your temperature (F, K, or C): ")
new_format = input("Choose your conversion (F, K, or C): ")

def problem_3(x, original_format, new_format):
    if new_format == "F" and original_format == "C":
        temp = ((9/5) * x) + 32
    elif new_format == "C" and original_format == "F":
        temp = (x - 32)* 5/9
    elif new_format == "C" and original_format == "K":
        temp = x - 273.15
    elif new_format == "F" and original_format == "K":
        temp =((9/5) * (x - 273.15)) + 32
    elif new_format == "K" and original_format == "C":
        temp = x + 273.15
    elif new_format == "K" and original_format == "F":
        temp = ((x - 32)* 5/9) + 273.15
    else:
        print("Invalid Input")
    
    return temp



print(problem_3(temp, original_format, new_format))

#Problem4

num = int(input("How much is the change?: "))

def problem_4(num):
    num1, num2, num3, num4, num5 = 0, 0, 0, 0, 0
    
    if num >= 100:
        num1 = num // 100
        num = num % 100
    
    if num >= 25:
        num2 = num // 25
        num = num % 25
     
    if num >= 10:
        num3 = num // 10
        num = num % 10
        
    if num >= 5:
        num4 = num // 5
        num = num % 5
    
    if num >= 1:
        num5 = num // 1
     
    return (f"1P:{num1}/25C:{num2}/10C:{num3}/5C:{num4}/1C:{num5}")
        
print(problem_4(num))

#Problem5

