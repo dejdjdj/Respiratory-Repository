#Problem1
number = int(input("Choose a number to get the factorial of: "))

def problem_1(x):
    y = 1
    for i in range(1, x+1):
        y = y*i
    return y
   
result = problem_1(number)
print(result)


