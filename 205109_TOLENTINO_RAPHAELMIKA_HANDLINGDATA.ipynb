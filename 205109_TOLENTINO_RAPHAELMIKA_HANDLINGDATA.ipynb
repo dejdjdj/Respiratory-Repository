{
 "cells": [
  {
   "cell_type": "markdown",
   "id": "d40012ea",
   "metadata": {},
   "source": [
    "### Problem 1: Social Media Relationships"
   ]
  },
  {
   "cell_type": "code",
   "execution_count": 10,
   "id": "1c75bdd3",
   "metadata": {},
   "outputs": [
    {
     "data": {
      "text/plain": [
       "'followed by'"
      ]
     },
     "execution_count": 10,
     "metadata": {},
     "output_type": "execute_result"
    }
   ],
   "source": [
    "social_graph = {\"@bongolpoc\":{\"first_name\":\"Joselito\",\"last_name\":\"Olpoc\",\"following\":[]},\n",
    "                \n",
    "                \"@joaquin\":  {\"first_name\":\"Joaquin\",\"last_name\":\"Gonzales\",\"following\":[\"@chums\",\"@jobenilagan\"]},\n",
    "                \n",
    "                \"@chums\" : {\"first_name\":\"Matthew\",\"last_name\":\"Uy\",\"following\":[\"@bongolpoc\",\"@miketan\",\"@rudyang\",\"@joeilagan\"]},\n",
    "    \n",
    "                \"@jobenilagan\":{\"first_name\":\"Joben\",\"last_name\":\"Ilagan\",\"following\":[\"@eeebeee\",\"@joeilagan\",\"@chums\",\"@joaquin\"]},\n",
    "   \n",
    "                \"@joeilagan\":{\"first_name\":\"Joe\",\"last_name\":\"Ilagan\",\"following\":[\"@eeebeee\",\"@jobenilagan\",\"@chums\"]},\n",
    "    \n",
    "                \"@eeebeee\":  {\"first_name\":\"Elizabeth\",\"last_name\":\"Ilagan\",\"following\":[\"@jobenilagan\",\"@joeilagan\"]},}\n",
    "\n",
    "def relationship_status(from_member, to_member, social_graph):\n",
    "    status = \"None\"\n",
    "    follower = False\n",
    "    followed_by = False\n",
    "\n",
    "    # check if from follows to\n",
    "    if to_member in social_graph[from_member]['following']:\n",
    "        follower = True\n",
    "        status = \"follower\"\n",
    "\n",
    "    # check if to follows from\n",
    "    if from_member in social_graph[to_member]['following']:\n",
    "        followed_by = True\n",
    "        status = \"followed by\"\n",
    "    \n",
    "    # check if they follow eachother\n",
    "    if follower is True and followed_by is True:\n",
    "        status = 'friends'\n",
    "\n",
    "    return status\n",
    "    \n",
    "        \n",
    "relationship_status(\"@chums\",\"@jobenilagan\",social_graph)\n",
    "        "
   ]
  },
  {
   "cell_type": "markdown",
   "id": "13c2716b",
   "metadata": {},
   "source": [
    "### Problem 2: Tic Tac Toe"
   ]
  },
  {
   "cell_type": "code",
   "execution_count": 9,
   "id": "715248ff",
   "metadata": {},
   "outputs": [
    {
     "data": {
      "text/plain": [
       "'X'"
      ]
     },
     "execution_count": 9,
     "metadata": {},
     "output_type": "execute_result"
    }
   ],
   "source": [
    "board1 = [\n",
    "['X','X','O'],\n",
    "['O','X','O'],\n",
    "['O','','X'],\n",
    "]\n",
    "\n",
    "board2 = [\n",
    "['X','X','O'],\n",
    "['O','X','O'],\n",
    "['','O','X'],\n",
    "]\n",
    "\n",
    "board3 = [\n",
    "['O','X','O'],\n",
    "['','O','X'],\n",
    "['X','X','O'],\n",
    "]\n",
    "\n",
    "board4 = [\n",
    "['X','X','X'],\n",
    "['O','X','O'],\n",
    "['O','','O'],\n",
    "]\n",
    "\n",
    "board5 = [\n",
    "['X','X','O'],\n",
    "['O','X','O'],\n",
    "['X','','O'],\n",
    "]\n",
    "\n",
    "board6 = [\n",
    "['X','X','O'],\n",
    "['O','X','O'],\n",
    "['X','',''],\n",
    "]\n",
    "\n",
    "\n",
    "def tic_tac_toe(board):\n",
    "    winner = 'None'\n",
    "    possible_combinations = []\n",
    "\n",
    "    #horizontal list\n",
    "    possible_combinations.extend(board)\n",
    "\n",
    "    #vertical list\n",
    "    possible_combinations.extend([ x for x in zip(*board) ])\n",
    "\n",
    "    #diagonal up-down\n",
    "    possible_combinations.append([ board[i][i] for i, v in enumerate(board) ])\n",
    "\n",
    "    #diagonal up-down\n",
    "    possible_combinations.append([ board[len(board)-1-i][i] for i, v in enumerate(board) ])\n",
    "\n",
    "    #iterate through all possible combinations\n",
    "    for combination in possible_combinations:\n",
    "        #check if all elements in list are the same\n",
    "        #returns a tuple (Bolean, [ list of elements ])\n",
    "        isWinner = combination.count(combination[0]) == len(combination), combination\n",
    "\n",
    "        if isWinner[0]:\n",
    "            winner = combination[0]\n",
    "            break\n",
    "\n",
    "    return winner\n",
    "\n",
    "'''\n",
    "# to visualize \n",
    "boards = [ board1, board2, board3, board4, board5, board6]\n",
    "\n",
    "for board in boards:\n",
    "    print(tic_tac_toe(board)) \n",
    "'''\n",
    "\n",
    "tic_tac_toe(board4)"
   ]
  },
  {
   "cell_type": "markdown",
   "id": "c4f7de2b",
   "metadata": {},
   "source": [
    "### Problem 3: Routing"
   ]
  },
  {
   "cell_type": "code",
   "execution_count": 8,
   "id": "263d6523",
   "metadata": {},
   "outputs": [
    {
     "data": {
      "text/plain": [
       "45"
      ]
     },
     "execution_count": 8,
     "metadata": {},
     "output_type": "execute_result"
    }
   ],
   "source": [
    "\"\"\"\n",
    "UP Diliman -> Ateneo de Manila (Estimated Time: 10 mins)\n",
    "Ateneo de Manila -> De La Salle Taft (Estimated Time: 35 mins)\n",
    "De La Salle Taft -> UP Diliman (Estimated Time: 55 mins)\n",
    "\"\"\"\n",
    "\n",
    "legs = {\n",
    "     (\"upd\",\"admu\"):{\n",
    "         \"travel_time_mins\":10\n",
    "     },\n",
    "     (\"admu\",\"dlsu\"):{\n",
    "         \"travel_time_mins\":35\n",
    "     },\n",
    "     (\"dlsu\",\"upd\"):{\n",
    "         \"travel_time_mins\":55\n",
    "     }\n",
    "}\n",
    "\n",
    "from itertools import cycle\n",
    "\n",
    "\n",
    "def eta(legs, source, destination):\n",
    "    time = 0\n",
    "    count_time = False\n",
    "\n",
    "    #if source and destination is same, return 0\n",
    "    if source == destination:\n",
    "        return 0\n",
    "    \n",
    "    for route in cycle(legs):\n",
    "        #check if current source route is start\n",
    "        if route[0] == source:\n",
    "            count_time = True\n",
    "\n",
    "        #check if start has been passed through, if so, start counting\n",
    "        if count_time == True:\n",
    "            time += legs[route]['travel_time_mins']\n",
    "    \n",
    "        #check if current destination is end\n",
    "        if route[1] == destination and count_time == True:\n",
    "            break\n",
    "        \n",
    "    return time\n",
    "\n",
    "\n",
    "''' \n",
    "# to visualize\n",
    "values = ['upd', 'admu', 'dlsu']\n",
    "\n",
    "for x in values:\n",
    "    for y in values:\n",
    "        print(f'{ eta(legs, x, y)}, {x} -> {y}')\n",
    "'''\n",
    "        \n",
    "eta(legs, \"upd\", \"dlsu\")"
   ]
  },
  {
   "cell_type": "code",
   "execution_count": null,
   "id": "8cb1ccfe",
   "metadata": {},
   "outputs": [],
   "source": []
  }
 ],
 "metadata": {
  "kernelspec": {
   "display_name": "Python 3",
   "language": "python",
   "name": "python3"
  },
  "language_info": {
   "codemirror_mode": {
    "name": "ipython",
    "version": 3
   },
   "file_extension": ".py",
   "mimetype": "text/x-python",
   "name": "python",
   "nbconvert_exporter": "python",
   "pygments_lexer": "ipython3",
   "version": "3.8.8"
  }
 },
 "nbformat": 4,
 "nbformat_minor": 5
}
