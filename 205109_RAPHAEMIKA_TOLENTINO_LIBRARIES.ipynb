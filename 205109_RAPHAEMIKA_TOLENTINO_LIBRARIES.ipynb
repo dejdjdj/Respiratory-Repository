{
 "cells": [
  {
   "cell_type": "markdown",
   "id": "6651313d",
   "metadata": {},
   "source": [
    "# Problem 1: Association Rules"
   ]
  },
  {
   "cell_type": "code",
   "execution_count": null,
   "id": "dd61dbd2",
   "metadata": {},
   "outputs": [],
   "source": [
    "# NON-EDITABLE CODE CELL\n",
    "# You may run this cell, but do not edit it.\n",
    "\n",
    "import pandas as pd\n",
    "import numpy as np\n",
    "import matplotlib.pyplot as plt\n",
    "import requests"
   ]
  },
  {
   "cell_type": "markdown",
   "id": "40ad4a83",
   "metadata": {},
   "source": [
    "## 1.1"
   ]
  },
  {
   "cell_type": "code",
   "execution_count": null,
   "id": "19c3fc1f",
   "metadata": {},
   "outputs": [],
   "source": [
    "# CODE CELL\n",
    "\n",
    "# CODE START\n",
    "\n",
    "df = pd.read_csv(\"sample order basket.csv\")\n",
    "\n",
    "# CODE END\n",
    "\n",
    "df"
   ]
  },
  {
   "cell_type": "markdown",
   "id": "08a70c47",
   "metadata": {},
   "source": [
    "## 1.2"
   ]
  },
  {
   "cell_type": "code",
   "execution_count": null,
   "id": "585cb53e",
   "metadata": {},
   "outputs": [],
   "source": [
    "# CODE CELL\n",
    "\n",
    "# CODE START\n",
    "\n",
    "ind = df[\"OrderNum\"].astype(int).unique()\n",
    "col = df[\"Product\"].astype(object).unique()\n",
    "\n",
    "col.sort()\n",
    "ind.sort()\n",
    "\n",
    "data = np.zeros(shape=(ind.size,col.size))\n",
    "\n",
    "indexing = {\"bread\": 0, \"cheese\": 1, \"eggs\": 2, \"flour\": 3, \"jam\": 4}\n",
    "\n",
    "indexer = 0\n",
    "grouped = df.groupby([\"OrderNum\"])\n",
    "\n",
    "\n",
    "for id in ind:\n",
    "    club = grouped.get_group(id)\n",
    "    r_data = np.zeros(col.size)\n",
    "    \n",
    "    for index, row in club.iterrows():\n",
    "        r_data[indexing[row[\"Product\"]]] = 1 \n",
    "        \n",
    "    data[indexer] = r_data\n",
    "    indexer += 1\n",
    "\n",
    "    \n",
    "binary_table = pd.DataFrame(data=data, index=ind, columns=col)\n",
    "\n",
    "# CODE END\n",
    "\n",
    "binary_table"
   ]
  },
  {
   "cell_type": "markdown",
   "id": "aa55d770",
   "metadata": {},
   "source": [
    "## 1.3"
   ]
  },
  {
   "cell_type": "code",
   "execution_count": null,
   "id": "39e784e2",
   "metadata": {},
   "outputs": [],
   "source": [
    "# CODE CELL\n",
    "\n",
    "# CODE START\n",
    "\n",
    "# binary_table.drop_duplicates()\n",
    "r_values = binary_table.value_counts()\n",
    "\n",
    "combination = []\n",
    "count = []\n",
    "\n",
    "report_indexing = [\"bread\", \"cheese\", \"eggs\", \"flour\", \"jam\"]\n",
    "\n",
    "        \n",
    "for index, value in r_values.items():\n",
    "    indices = [index for index, element in enumerate(index) if element == 1]\n",
    "    pattern = [report_indexing[item] for item in indices ]\n",
    "    \n",
    "    count.append(value)\n",
    "    combination.append(pattern)\n",
    "\n",
    "comb = pd.Series(data = combination,dtype=object, name = \"Combination\")\n",
    "con = pd.Series(data = count, dtype=int, name = \"Count\")\n",
    "\n",
    "frame = {\"Combination\":comb, \"Count\":con}\n",
    "\n",
    "report = pd.DataFrame(frame)\n",
    "report = report.sort_values(by = \"Count\", ascending = False)\n",
    "\n",
    "# CODE END\n",
    "\n",
    "report"
   ]
  },
  {
   "cell_type": "markdown",
   "id": "dc32a03a",
   "metadata": {},
   "source": [
    "# Problem 2: A Plot of the International Space Station's Location"
   ]
  },
  {
   "cell_type": "markdown",
   "id": "beaa23e4",
   "metadata": {},
   "source": [
    "## 2.1"
   ]
  },
  {
   "cell_type": "code",
   "execution_count": null,
   "id": "1b88ab41",
   "metadata": {},
   "outputs": [],
   "source": [
    "# CODE CELL\n",
    "\n",
    "import json\n",
    "import codecs\n",
    "\n",
    "import time\n",
    "from datetime import datetime, timedelta\n",
    "\n",
    "# CODE START\n",
    "\n",
    "iss_data = []\n",
    "\n",
    "start_time = datetime.now()\n",
    "end_time = start_time + timedelta(minutes = 30)\n",
    "\n",
    "web = \"http://api.open-notify.org/iss-now.json\"\n",
    "\n",
    "while(end_time > datetime.now()):\n",
    "    r = requests.get(url = web)\n",
    "    data = r.json()\n",
    "\n",
    "    time.sleep(10) \n",
    "    iss_data.append(data)\n",
    "\n",
    "with open(\"iss-data.json\", \"wb\") as f:\n",
    "    json.dump(iss_data, codecs.getwriter(\"utf-8\")(f), ensure_ascii=False)\n",
    "\n",
    "\n",
    "# CODE END"
   ]
  },
  {
   "cell_type": "markdown",
   "id": "ec25be41",
   "metadata": {},
   "source": [
    "## 2.2"
   ]
  },
  {
   "cell_type": "code",
   "execution_count": null,
   "id": "6e8653eb",
   "metadata": {},
   "outputs": [],
   "source": [
    "# CODE CELL\n",
    "\n",
    "json_file = open(\"iss-data.json\")\n",
    "ISS = json.load(json_file)\n",
    "\n",
    "x = []\n",
    "y = []\n",
    "\n",
    "for data in ISS:\n",
    "    x.append(float(data[\"iss_position\"][\"longitude\"]))\n",
    "    y.append(float(data[\"iss_position\"][\"latitude\"]))\n",
    "\n",
    "json_file.close()\n",
    "\n",
    "plt.plot(x,y, marker = \"o\")\n",
    "plt.xlabel(\"Longitude\")\n",
    "plt.ylabel(\"Latitude\")\n",
    "plt.title(\"ISS POSITION DATA\")\n",
    "plt.show()\n",
    "\n",
    "# CODE END"
   ]
  }
 ],
 "metadata": {
  "kernelspec": {
   "display_name": "Python 3",
   "language": "python",
   "name": "python3"
  },
  "language_info": {
   "codemirror_mode": {
    "name": "ipython",
    "version": 3
   },
   "file_extension": ".py",
   "mimetype": "text/x-python",
   "name": "python",
   "nbconvert_exporter": "python",
   "pygments_lexer": "ipython3",
   "version": "3.8.8"
  }
 },
 "nbformat": 4,
 "nbformat_minor": 5
}
